{
 "cells": [
  {
   "cell_type": "code",
   "execution_count": null,
   "id": "dd8f3860",
   "metadata": {},
   "outputs": [],
   "source": []
  },
  {
   "cell_type": "code",
   "execution_count": null,
   "id": "d848e383",
   "metadata": {},
   "outputs": [],
   "source": [
    "from collections import deque\n",
    "\n",
    "\n",
    "def op0(a):\n",
    "    return f\"({a})\"\n",
    "\n",
    "\n",
    "def op1(a):\n",
    "    return f\"{a}()\"\n",
    "\n",
    "\n",
    "def op2(a):\n",
    "    return a[1:-1]\n",
    "\n",
    "\n",
    "def op3(a):\n",
    "    return a[:-2]\n",
    "\n",
    "\n",
    "mapping = {}\n",
    "mapping_inv = []\n",
    "\n",
    "init = \"\"\n",
    "processed = {}\n",
    "unprocessed = deque()\n",
    "ops = [op0, op2]\n",
    "\n",
    "unprocessed.append(init)\n",
    "for _ in range(10000000):\n",
    "    item = unprocessed.popleft()\n",
    "    if item not in mapping:\n",
    "        mapping[item] = len(mapping)\n",
    "        mapping_inv.append(item)\n",
    "    item_children = []\n",
    "    for op in ops:\n",
    "        child = op(item)\n",
    "        if child not in mapping:\n",
    "            mapping[child] = len(mapping)\n",
    "            mapping_inv.append(child)\n",
    "        item_children.append(child)\n",
    "        unprocessed.append(child)\n",
    "\n",
    "    if mapping[item] not in processed:\n",
    "        processed[mapping[item]] = [mapping[child] for child in item_children]\n",
    "\n",
    "for k, v in processed.items():\n",
    "    print(k, v)\n",
    "# print(unprocessed)\n"
   ]
  }
 ],
 "metadata": {
  "kernelspec": {
   "display_name": "Python 3 (ipykernel)",
   "language": "python",
   "name": "python3"
  },
  "language_info": {
   "codemirror_mode": {
    "name": "ipython",
    "version": 3
   },
   "file_extension": ".py",
   "mimetype": "text/x-python",
   "name": "python",
   "nbconvert_exporter": "python",
   "pygments_lexer": "ipython3",
   "version": "3.10.4"
  }
 },
 "nbformat": 4,
 "nbformat_minor": 5
}
